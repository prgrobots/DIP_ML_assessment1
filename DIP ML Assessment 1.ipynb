{
 "cells": [
  {
   "cell_type": "markdown",
   "metadata": {},
   "source": [
    "**Assessment: Hand-held Hyperspectral Camera System for Hitchhiker Pest Identification**\n",
    "\n",
    "**Introduction:**\n",
    "In this assessment, students will demonstrate their ability to utilize image classification techniques and the fastai library to create a machine learning model capable of identifying hitchhiker pests using a hand-held hyperspectral camera system. The camera system is designed for real-time scanning in challenging environments, targeting pests carried via sea containers, cargo, and packaging. The assessment will require students to organize the dataset, create an ML model, evaluate the model's performance, and submit their work in the form of a Jupyter notebook.\n",
    "\n",
    "**Scenario:**\n",
    "You are tasked with developing a hand-held hyperspectral camera system for advanced surveillance and inspection. The camera system will be used to identify hitchhiker pests carried via sea containers, cargo, and packaging. The device employs both hyperspectral and RGB camera lenses, along with a self-learning detection algorithm (AI) to instantly identify key exotic species. For the purpose of this assessment, a standard camera will be used as a proof of concept.\n",
    "\n",
    "**Tasks:**\n",
    "\n",
    "1. **Dataset Organization:**\n",
    "   - Research and locate a suitable dataset that contains images of hitchhiker pests and their associated environments.\n",
    "   - Preprocess the dataset to ensure consistency in image dimensions and data quality.\n",
    "   - Organize the dataset into appropriate directories for training, validation, and testing.\n",
    "\n",
    "2. **Creating an ML Model:**\n",
    "   - Utilize the fastai library to create an image classification model.\n",
    "   - Choose an appropriate deep learning architecture (e.g., CNN) for the model.\n",
    "   - Train the model using the training dataset, considering hyperparameter tuning.\n",
    "   - Monitor training progress and adjust if necessary.\n",
    "\n",
    "3. **Model Scoring:**\n",
    "   - Use the trained model to predict pest species in a given set of images from the validation dataset.\n",
    "   - Evaluate the model's performance using appropriate metrics (e.g., accuracy, precision, recall).\n",
    "   - Visualize the model's predictions and actual labels.\n",
    "\n",
    "4. **Validation and Test Datasets:**\n",
    "   - Create a validation dataset that was not used during training to assess the model's generalization ability.\n",
    "   - Ensure that the validation dataset contains images with varying conditions and perspectives.\n",
    "   - Additionally, prepare a separate test dataset for final model evaluation.\n",
    "\n",
    "5. **ML Evaluations:**\n",
    "   - Apply the trained model to the test dataset to evaluate its performance on previously unseen data.\n",
    "   - Analyze the model's predictions, misclassifications, and potential areas of improvement.\n",
    "   - Summarize the assessment of the model's capabilities and limitations.\n",
    "\n",
    "**Submission:**\n",
    "Prepare a Jupyter notebook that includes the following sections:\n",
    "   - Introduction and scenario description.\n",
    "   - Dataset preprocessing and organization.\n",
    "   - Model creation, training, and evaluation.\n",
    "   - Validation and test dataset usage.\n",
    "   - Model performance analysis.\n",
    "   - Conclusion and recommendations for further improvements.\n",
    "\n",
    "**Optional:**\n",
    "   - Implement a user-friendly front end using Hugging Face Spaces to showcase the model's ability to identify pest species.\n",
    "\n",
    "---\n",
    "\n",
    "This outline covers the main components of the assessment, including dataset preparation, model creation, evaluation, and submission. Depending on the level of detail and complexity desired, you can further expand each task to include specific technical steps, code snippets, and explanations."
   ]
  }
 ],
 "metadata": {
  "language_info": {
   "name": "python"
  },
  "orig_nbformat": 4
 },
 "nbformat": 4,
 "nbformat_minor": 2
}
